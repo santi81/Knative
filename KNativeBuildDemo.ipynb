{
 "cells": [
  {
   "cell_type": "code",
   "execution_count": 19,
   "metadata": {},
   "outputs": [
    {
     "name": "stdout",
     "output_type": "stream",
     "text": [
      "buildtemplate.build.knative.dev \"kaniko\" created\r\n"
     ]
    }
   ],
   "source": [
    "!kubectl apply --filename kaniko.yaml"
   ]
  },
  {
   "cell_type": "code",
   "execution_count": 20,
   "metadata": {},
   "outputs": [
    {
     "name": "stdout",
     "output_type": "stream",
     "text": [
      "secret \"basic-user-pass\" created\r\n"
     ]
    }
   ],
   "source": [
    "!kubectl apply --filename docker-secret.yaml"
   ]
  },
  {
   "cell_type": "code",
   "execution_count": 21,
   "metadata": {},
   "outputs": [
    {
     "name": "stdout",
     "output_type": "stream",
     "text": [
      "secret \"github-user-pass\" created\r\n"
     ]
    }
   ],
   "source": [
    "!kubectl apply --filename github-secret.yaml"
   ]
  },
  {
   "cell_type": "code",
   "execution_count": 22,
   "metadata": {},
   "outputs": [
    {
     "name": "stdout",
     "output_type": "stream",
     "text": [
      "serviceaccount \"build-bot\" created\r\n"
     ]
    }
   ],
   "source": [
    "!kubectl apply --filename service-account.yaml"
   ]
  },
  {
   "cell_type": "code",
   "execution_count": 39,
   "metadata": {},
   "outputs": [
    {
     "name": "stdout",
     "output_type": "stream",
     "text": [
      "service.serving.knative.dev \"model-from-source\" created\r\n"
     ]
    }
   ],
   "source": [
    "!kubectl apply --filename service-ml.yaml"
   ]
  },
  {
   "cell_type": "code",
   "execution_count": 37,
   "metadata": {},
   "outputs": [
    {
     "name": "stdout",
     "output_type": "stream",
     "text": [
      "service.serving.knative.dev \"app-from-source\" created\r\n"
     ]
    }
   ],
   "source": [
    "!kubectl apply --filename service.yaml"
   ]
  },
  {
   "cell_type": "code",
   "execution_count": 38,
   "metadata": {},
   "outputs": [
    {
     "name": "stdout",
     "output_type": "stream",
     "text": [
      "<h1>Hello from the sample app!</h1>"
     ]
    }
   ],
   "source": [
    "! curl -H \"Host: app-from-source.default.example.com\" http://localhost:31380"
   ]
  },
  {
   "cell_type": "code",
   "execution_count": 24,
   "metadata": {},
   "outputs": [
    {
     "name": "stdout",
     "output_type": "stream",
     "text": [
      "NAME                          READY     STATUS       RESTARTS   AGE\n",
      "app-from-source-7btzc-n45pp   0/1       Init:Error   0          1m\n",
      "^C\n"
     ]
    }
   ],
   "source": [
    "!kubectl get pods --watch"
   ]
  },
  {
   "cell_type": "code",
   "execution_count": 13,
   "metadata": {},
   "outputs": [],
   "source": [
    "### Clean-up"
   ]
  },
  {
   "cell_type": "code",
   "execution_count": 15,
   "metadata": {},
   "outputs": [
    {
     "name": "stdout",
     "output_type": "stream",
     "text": [
      "buildtemplate.build.knative.dev \"kaniko\" deleted\r\n"
     ]
    }
   ],
   "source": [
    "!kubectl delete -f kaniko.yaml"
   ]
  },
  {
   "cell_type": "code",
   "execution_count": 16,
   "metadata": {},
   "outputs": [
    {
     "name": "stdout",
     "output_type": "stream",
     "text": [
      "secret \"basic-user-pass\" deleted\r\n"
     ]
    }
   ],
   "source": [
    "! kubectl delete -f docker-secret.yaml"
   ]
  },
  {
   "cell_type": "code",
   "execution_count": 17,
   "metadata": {},
   "outputs": [
    {
     "name": "stdout",
     "output_type": "stream",
     "text": [
      "serviceaccount \"build-bot\" deleted\r\n"
     ]
    }
   ],
   "source": [
    "!kubectl delete -f service-account.yaml"
   ]
  },
  {
   "cell_type": "code",
   "execution_count": 1,
   "metadata": {},
   "outputs": [
    {
     "name": "stdout",
     "output_type": "stream",
     "text": [
      "service.serving.knative.dev \"app-from-source\" deleted\r\n"
     ]
    }
   ],
   "source": [
    "!kubectl delete -f service.yaml"
   ]
  },
  {
   "cell_type": "code",
   "execution_count": 36,
   "metadata": {},
   "outputs": [
    {
     "name": "stdout",
     "output_type": "stream",
     "text": [
      "service.serving.knative.dev \"model-from-source\" deleted\r\n"
     ]
    }
   ],
   "source": [
    "!kubectl delete -f service-ml.yaml"
   ]
  }
 ],
 "metadata": {
  "kernelspec": {
   "display_name": "Python 3",
   "language": "python",
   "name": "python3"
  },
  "language_info": {
   "codemirror_mode": {
    "name": "ipython",
    "version": 3
   },
   "file_extension": ".py",
   "mimetype": "text/x-python",
   "name": "python",
   "nbconvert_exporter": "python",
   "pygments_lexer": "ipython3",
   "version": "3.7.1"
  }
 },
 "nbformat": 4,
 "nbformat_minor": 2
}
