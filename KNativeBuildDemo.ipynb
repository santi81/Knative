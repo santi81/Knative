{
 "cells": [
  {
   "cell_type": "code",
   "execution_count": 8,
   "metadata": {},
   "outputs": [
    {
     "name": "stdout",
     "output_type": "stream",
     "text": [
      "buildtemplate.build.knative.dev \"kaniko\" created\r\n"
     ]
    }
   ],
   "source": [
    "!kubectl apply --filename kaniko.yaml"
   ]
  },
  {
   "cell_type": "code",
   "execution_count": 9,
   "metadata": {},
   "outputs": [
    {
     "name": "stdout",
     "output_type": "stream",
     "text": [
      "secret \"basic-user-pass\" unchanged\r\n"
     ]
    }
   ],
   "source": [
    "!kubectl apply --filename docker-secret.yaml"
   ]
  },
  {
   "cell_type": "code",
   "execution_count": 10,
   "metadata": {},
   "outputs": [
    {
     "name": "stdout",
     "output_type": "stream",
     "text": [
      "serviceaccount \"build-bot\" configured\r\n"
     ]
    }
   ],
   "source": [
    "!kubectl apply --filename service-account.yaml"
   ]
  },
  {
   "cell_type": "code",
   "execution_count": 11,
   "metadata": {},
   "outputs": [
    {
     "name": "stdout",
     "output_type": "stream",
     "text": [
      "service.serving.knative.dev \"app-from-source\" configured\r\n"
     ]
    }
   ],
   "source": [
    "!kubectl apply --filename service.yaml"
   ]
  },
  {
   "cell_type": "code",
   "execution_count": 14,
   "metadata": {},
   "outputs": [
    {
     "name": "stdout",
     "output_type": "stream",
     "text": [
      "<h1>Hello from the sample app!</h1>"
     ]
    }
   ],
   "source": [
    "! curl -H \"Host: app-from-source.default.example.com\" http://localhost:31380"
   ]
  },
  {
   "cell_type": "code",
   "execution_count": 12,
   "metadata": {
    "collapsed": true
   },
   "outputs": [
    {
     "name": "stdout",
     "output_type": "stream",
     "text": [
      "NAME                          READY     STATUS    RESTARTS   AGE\n",
      "app-from-source-2kh9r-6rcz8   0/1       Pending   0          0s\n",
      "app-from-source-2kh9r-6rcz8   0/1       Pending   0         0s\n",
      "app-from-source-2kh9r-6rcz8   0/1       Init:0/3   0         0s\n",
      "app-from-source-2kh9r-6rcz8   0/1       Init:1/3   0         2s\n",
      "app-from-source-2kh9r-6rcz8   0/1       Init:2/3   0         3s\n",
      "app-from-source-2kh9r-6rcz8   0/1       Init:2/3   0         5s\n",
      "app-from-source-2kh9r-6rcz8   0/1       PodInitializing   0         1m\n",
      "app-from-source-2kh9r-6rcz8   0/1       Completed   0         1m\n",
      "app-from-source-lxcf5-deployment-564f488994-2rzgd   0/3       Pending   0         0s\n",
      "app-from-source-lxcf5-deployment-564f488994-2rzgd   0/3       Pending   0         0s\n",
      "app-from-source-lxcf5-deployment-564f488994-2rzgd   0/3       Init:0/1   0         0s\n",
      "app-from-source-lxcf5-deployment-564f488994-2rzgd   0/3       PodInitializing   0         2s\n",
      "app-from-source-lxcf5-deployment-564f488994-2rzgd   2/3       Running   0         6s\n",
      "app-from-source-lxcf5-deployment-564f488994-2rzgd   3/3       Running   0         8s\n",
      "app-from-source-lxcf5-deployment-564f488994-2rzgd   3/3       Terminating   0         1m\n",
      "app-from-source-lxcf5-deployment-564f488994-2rzgd   2/3       Terminating   0         1m\n",
      "app-from-source-lxcf5-deployment-564f488994-2rzgd   0/3       Terminating   0         2m\n",
      "app-from-source-lxcf5-deployment-564f488994-2rzgd   0/3       Terminating   0         2m\n",
      "app-from-source-lxcf5-deployment-564f488994-2rzgd   0/3       Terminating   0         2m\n",
      "app-from-source-lxcf5-deployment-564f488994-2rzgd   0/3       Terminating   0         2m\n",
      "^C\n"
     ]
    }
   ],
   "source": [
    "!kubectl get pods --watch"
   ]
  },
  {
   "cell_type": "code",
   "execution_count": 13,
   "metadata": {},
   "outputs": [],
   "source": [
    "### Clean-up"
   ]
  },
  {
   "cell_type": "code",
   "execution_count": null,
   "metadata": {},
   "outputs": [],
   "source": [
    "!kubectl delete -f kaniko.yaml"
   ]
  },
  {
   "cell_type": "code",
   "execution_count": null,
   "metadata": {},
   "outputs": [],
   "source": [
    "! kubectl delete -f docker-secret.yaml"
   ]
  },
  {
   "cell_type": "code",
   "execution_count": null,
   "metadata": {},
   "outputs": [],
   "source": [
    "!kubectl delete -f service-account.yaml"
   ]
  },
  {
   "cell_type": "code",
   "execution_count": null,
   "metadata": {},
   "outputs": [],
   "source": [
    "!kubectl delete -f service.yaml"
   ]
  }
 ],
 "metadata": {
  "kernelspec": {
   "display_name": "Python 3",
   "language": "python",
   "name": "python3"
  },
  "language_info": {
   "codemirror_mode": {
    "name": "ipython",
    "version": 3
   },
   "file_extension": ".py",
   "mimetype": "text/x-python",
   "name": "python",
   "nbconvert_exporter": "python",
   "pygments_lexer": "ipython3",
   "version": "3.7.1"
  }
 },
 "nbformat": 4,
 "nbformat_minor": 2
}
