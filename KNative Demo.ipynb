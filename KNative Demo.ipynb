{
 "cells": [
  {
   "cell_type": "markdown",
   "metadata": {},
   "source": [
    "### Hello World with KNative"
   ]
  },
  {
   "cell_type": "code",
   "execution_count": 1,
   "metadata": {},
   "outputs": [
    {
     "name": "stdout",
     "output_type": "stream",
     "text": [
      "/Users/i033085/gitrepos/Knative/helloworld-python\n"
     ]
    }
   ],
   "source": [
    "%cd ./helloworld-python\n"
   ]
  },
  {
   "cell_type": "code",
   "execution_count": 4,
   "metadata": {},
   "outputs": [
    {
     "name": "stdout",
     "output_type": "stream",
     "text": [
      "Error from server (InternalError): error when creating \"service.yaml\": Internal error occurred: admission webhook \"webhook.serving.knative.dev\" denied the request: mutation failed: expected exactly one, got neither: spec.runLatest.configuration.revisionTemplate.spec.volumes[0].configMap, spec.runLatest.configuration.revisionTemplate.spec.volumes[0].secret\r\n"
     ]
    }
   ],
   "source": [
    "! kubectl apply -f service.yaml"
   ]
  },
  {
   "cell_type": "code",
   "execution_count": 3,
   "metadata": {},
   "outputs": [
    {
     "name": "stdout",
     "output_type": "stream",
     "text": [
      "NAME                   TYPE       CLUSTER-IP      EXTERNAL-IP   PORT(S)                                                                                                                   AGE\r\n",
      "istio-ingressgateway   NodePort   10.108.14.171   <none>        80:31380/TCP,443:31390/TCP,31400:31400/TCP,15011:30638/TCP,8060:31749/TCP,853:31693/TCP,15030:31520/TCP,15031:31924/TCP   34d\r\n"
     ]
    }
   ],
   "source": [
    "! kubectl get svc istio-ingressgateway --namespace istio-system"
   ]
  },
  {
   "cell_type": "code",
   "execution_count": 4,
   "metadata": {},
   "outputs": [
    {
     "name": "stdout",
     "output_type": "stream",
     "text": [
      "NAME                DOMAIN\r\n",
      "helloworld-python   helloworld-python.default.example.com\r\n"
     ]
    }
   ],
   "source": [
    "! kubectl get ksvc helloworld-python  --output=custom-columns=NAME:.metadata.name,DOMAIN:.status.domain"
   ]
  },
  {
   "cell_type": "code",
   "execution_count": 6,
   "metadata": {},
   "outputs": [
    {
     "name": "stdout",
     "output_type": "stream",
     "text": [
      "Hello Python Sample v2!\r\n"
     ]
    }
   ],
   "source": [
    "! curl -H \"Host: helloworld-python.default.example.com\" http://localhost:31380"
   ]
  },
  {
   "cell_type": "code",
   "execution_count": 6,
   "metadata": {
    "collapsed": true
   },
   "outputs": [
    {
     "name": "stdout",
     "output_type": "stream",
     "text": [
      "{\r\n",
      "    \"apiVersion\": \"v1\",\r\n",
      "    \"data\": {\r\n",
      "        \"_example\": \"################################\\n#                              #\\n#    EXAMPLE CONFIGURATION     #\\n#                              #\\n################################\\n\\n# This block is not actually functional configuration,\\n# but serves to illustrate the available configuration\\n# options and document them in a way that is accessible\\n# to users that `kubectl edit` this config map.\\n#\\n# These sample configuration options may be copied out of\\n# this block and unindented to actually change the configuration.\\n\\n# The Revision ContainerConcurrency field specifies the maximum number\\n# of requests the Container can handle at once. Container concurrency\\n# target percentage is how much of that maximum to use in a stable\\n# state. E.g. if a Revision specifies ContainerConcurrency of 10, then\\n# the Autoscaler will try to maintain 7 concurrent connections per pod\\n# on average. A value of 0.7 is chosen because the Autoscaler panics\\n# when concurrency exceeds 2x the desired set point. So we will panic\\n# before we reach the limit.\\ncontainer-concurrency-target-percentage: \\\"1.0\\\"\\n\\n# The container concurrency target default is what the Autoscaler will\\n# try to maintain when the Revision specifies unlimited concurrency. A\\n# value of 100 is chosen because it's enough to allow vertical pod\\n# autoscaling to tune resource requests. E.g. maintaining 1 concurrent\\n# \\\"hello world\\\" request doesn't consume enough resources to allow VPA\\n# to achieve efficient resource usage (VPA CPU minimum is 300m).\\ncontainer-concurrency-target-default: \\\"100\\\"\\n\\n# When operating in a stable mode, the autoscaler operates on the\\n# average concurrency over the stable window.\\nstable-window: \\\"60s\\\"\\n\\n# When observed average concurrency during the panic window reaches 2x\\n# the target concurrency, the autoscaler enters panic mode. When\\n# operating in panic mode, the autoscaler operates on the average\\n# concurrency over the panic window.\\npanic-window: \\\"6s\\\"\\n\\n# Max scale up rate limits the rate at which the autoscaler will\\n# increase pod count. It is the maximum ratio of desired pods versus\\n# observed pods.\\nmax-scale-up-rate: \\\"10\\\"\\n\\n# Scale to zero feature flag\\nenable-scale-to-zero: \\\"true\\\"\\n\\n# Tick interval is the time between autoscaling calculations.\\ntick-interval: \\\"2s\\\"\\n\\n# Dynamic parameters (take effect when config map is updated):\\n\\n# Scale to zero grace period is the time an inactive revision is left\\n# running before it is scaled to zero (min: 30s).\\nscale-to-zero-grace-period: \\\"30s\\\"\\n\"\r\n",
      "    },\r\n",
      "    \"kind\": \"ConfigMap\",\r\n",
      "    \"metadata\": {\r\n",
      "        \"annotations\": {\r\n",
      "            \"kubectl.kubernetes.io/last-applied-configuration\": \"{\\\"apiVersion\\\":\\\"v1\\\",\\\"data\\\":{\\\"_example\\\":\\\"################################\\\\n#                              #\\\\n#    EXAMPLE CONFIGURATION     #\\\\n#                              #\\\\n################################\\\\n\\\\n# This block is not actually functional configuration,\\\\n# but serves to illustrate the available configuration\\\\n# options and document them in a way that is accessible\\\\n# to users that `kubectl edit` this config map.\\\\n#\\\\n# These sample configuration options may be copied out of\\\\n# this block and unindented to actually change the configuration.\\\\n\\\\n# The Revision ContainerConcurrency field specifies the maximum number\\\\n# of requests the Container can handle at once. Container concurrency\\\\n# target percentage is how much of that maximum to use in a stable\\\\n# state. E.g. if a Revision specifies ContainerConcurrency of 10, then\\\\n# the Autoscaler will try to maintain 7 concurrent connections per pod\\\\n# on average. A value of 0.7 is chosen because the Autoscaler panics\\\\n# when concurrency exceeds 2x the desired set point. So we will panic\\\\n# before we reach the limit.\\\\ncontainer-concurrency-target-percentage: \\\\\\\"1.0\\\\\\\"\\\\n\\\\n# The container concurrency target default is what the Autoscaler will\\\\n# try to maintain when the Revision specifies unlimited concurrency. A\\\\n# value of 100 is chosen because it's enough to allow vertical pod\\\\n# autoscaling to tune resource requests. E.g. maintaining 1 concurrent\\\\n# \\\\\\\"hello world\\\\\\\" request doesn't consume enough resources to allow VPA\\\\n# to achieve efficient resource usage (VPA CPU minimum is 300m).\\\\ncontainer-concurrency-target-default: \\\\\\\"100\\\\\\\"\\\\n\\\\n# When operating in a stable mode, the autoscaler operates on the\\\\n# average concurrency over the stable window.\\\\nstable-window: \\\\\\\"60s\\\\\\\"\\\\n\\\\n# When observed average concurrency during the panic window reaches 2x\\\\n# the target concurrency, the autoscaler enters panic mode. When\\\\n# operating in panic mode, the autoscaler operates on the average\\\\n# concurrency over the panic window.\\\\npanic-window: \\\\\\\"6s\\\\\\\"\\\\n\\\\n# Max scale up rate limits the rate at which the autoscaler will\\\\n# increase pod count. It is the maximum ratio of desired pods versus\\\\n# observed pods.\\\\nmax-scale-up-rate: \\\\\\\"10\\\\\\\"\\\\n\\\\n# Scale to zero feature flag\\\\nenable-scale-to-zero: \\\\\\\"true\\\\\\\"\\\\n\\\\n# Tick interval is the time between autoscaling calculations.\\\\ntick-interval: \\\\\\\"2s\\\\\\\"\\\\n\\\\n# Dynamic parameters (take effect when config map is updated):\\\\n\\\\n# Scale to zero grace period is the time an inactive revision is left\\\\n# running before it is scaled to zero (min: 30s).\\\\nscale-to-zero-grace-period: \\\\\\\"30s\\\\\\\"\\\\n\\\"},\\\"kind\\\":\\\"ConfigMap\\\",\\\"metadata\\\":{\\\"annotations\\\":{},\\\"labels\\\":{\\\"serving.knative.dev/release\\\":\\\"devel\\\"},\\\"name\\\":\\\"config-autoscaler\\\",\\\"namespace\\\":\\\"knative-serving\\\"}}\\n\"\r\n",
      "        },\r\n",
      "        \"creationTimestamp\": \"2019-02-20T05:03:36Z\",\r\n",
      "        \"labels\": {\r\n",
      "            \"serving.knative.dev/release\": \"devel\"\r\n",
      "        },\r\n",
      "        \"name\": \"config-autoscaler\",\r\n",
      "        \"namespace\": \"knative-serving\",\r\n",
      "        \"resourceVersion\": \"123586\",\r\n",
      "        \"selfLink\": \"/api/v1/namespaces/knative-serving/configmaps/config-autoscaler\",\r\n",
      "        \"uid\": \"e1440343-34cc-11e9-94ec-025000000001\"\r\n",
      "    }\r\n",
      "}\r\n"
     ]
    }
   ],
   "source": [
    "! kubectl -n knative-serving get cm config-autoscaler --output json"
   ]
  },
  {
   "cell_type": "markdown",
   "metadata": {},
   "source": [
    "### Role out a new Revision"
   ]
  },
  {
   "cell_type": "code",
   "execution_count": 7,
   "metadata": {},
   "outputs": [
    {
     "name": "stdout",
     "output_type": "stream",
     "text": [
      "service.serving.knative.dev \"helloworld-python\" configured\r\n"
     ]
    }
   ],
   "source": [
    "! kubectl apply -f service-rev1.yaml"
   ]
  },
  {
   "cell_type": "code",
   "execution_count": 9,
   "metadata": {},
   "outputs": [
    {
     "name": "stdout",
     "output_type": "stream",
     "text": [
      "Hello Python Sample v3!\r\n"
     ]
    }
   ],
   "source": [
    "! curl -H \"Host: helloworld-python.default.example.com\" http://localhost:31380"
   ]
  },
  {
   "cell_type": "code",
   "execution_count": 10,
   "metadata": {
    "scrolled": true
   },
   "outputs": [
    {
     "name": "stdout",
     "output_type": "stream",
     "text": [
      "NAME                      AGE\r\n",
      "helloworld-python-btj9b   28s\r\n",
      "helloworld-python-kqd68   7m\r\n"
     ]
    }
   ],
   "source": [
    "! kubectl get revisions"
   ]
  },
  {
   "cell_type": "code",
   "execution_count": 11,
   "metadata": {
    "collapsed": true
   },
   "outputs": [
    {
     "name": "stdout",
     "output_type": "stream",
     "text": [
      "apiVersion: v1\n",
      "items:\n",
      "- apiVersion: serving.knative.dev/v1alpha1\n",
      "  kind: Route\n",
      "  metadata:\n",
      "    creationTimestamp: 2019-04-02T05:43:58Z\n",
      "    finalizers:\n",
      "    - routes.serving.knative.dev\n",
      "    generation: 1\n",
      "    labels:\n",
      "      serving.knative.dev/service: helloworld-python\n",
      "    name: helloworld-python\n",
      "    namespace: default\n",
      "    ownerReferences:\n",
      "    - apiVersion: serving.knative.dev/v1alpha1\n",
      "      blockOwnerDeletion: true\n",
      "      controller: true\n",
      "      kind: Service\n",
      "      name: helloworld-python\n",
      "      uid: 4fb3239a-550a-11e9-a3c9-025000000001\n",
      "    resourceVersion: \"1115381\"\n",
      "    selfLink: /apis/serving.knative.dev/v1alpha1/namespaces/default/routes/helloworld-python\n",
      "    uid: 4fbe2d46-550a-11e9-a3c9-025000000001\n",
      "  spec:\n",
      "    traffic:\n",
      "    - configurationName: helloworld-python\n",
      "      percent: 100\n",
      "  status:\n",
      "    address:\n",
      "      hostname: helloworld-python.default.svc.cluster.local\n",
      "    conditions:\n",
      "    - lastTransitionTime: 2019-04-02T05:44:08Z\n",
      "      status: \"True\"\n",
      "      type: AllTrafficAssigned\n",
      "    - lastTransitionTime: 2019-04-02T05:44:08Z\n",
      "      status: \"True\"\n",
      "      type: IngressReady\n",
      "    - lastTransitionTime: 2019-04-02T05:44:08Z\n",
      "      status: \"True\"\n",
      "      type: Ready\n",
      "    domain: helloworld-python.default.example.com\n",
      "    domainInternal: helloworld-python.default.svc.cluster.local\n",
      "    observedGeneration: 1\n",
      "    traffic:\n",
      "    - percent: 100\n",
      "      revisionName: helloworld-python-btj9b\n",
      "kind: List\n",
      "metadata:\n",
      "  resourceVersion: \"\"\n",
      "  selfLink: \"\"\n"
     ]
    }
   ],
   "source": [
    "! kubectl get route --output yaml"
   ]
  },
  {
   "cell_type": "code",
   "execution_count": 12,
   "metadata": {},
   "outputs": [
    {
     "name": "stdout",
     "output_type": "stream",
     "text": [
      "service.serving.knative.dev \"helloworld-python\" configured\r\n"
     ]
    }
   ],
   "source": [
    "! kubectl apply -f service-rev2.yaml"
   ]
  },
  {
   "cell_type": "code",
   "execution_count": 13,
   "metadata": {},
   "outputs": [
    {
     "name": "stdout",
     "output_type": "stream",
     "text": [
      "apiVersion: v1\n",
      "items:\n",
      "- apiVersion: serving.knative.dev/v1alpha1\n",
      "  kind: Route\n",
      "  metadata:\n",
      "    creationTimestamp: 2019-04-02T05:43:58Z\n",
      "    finalizers:\n",
      "    - routes.serving.knative.dev\n",
      "    generation: 2\n",
      "    labels:\n",
      "      serving.knative.dev/service: helloworld-python\n",
      "    name: helloworld-python\n",
      "    namespace: default\n",
      "    ownerReferences:\n",
      "    - apiVersion: serving.knative.dev/v1alpha1\n",
      "      blockOwnerDeletion: true\n",
      "      controller: true\n",
      "      kind: Service\n",
      "      name: helloworld-python\n",
      "      uid: 4fb3239a-550a-11e9-a3c9-025000000001\n",
      "    resourceVersion: \"1115682\"\n",
      "    selfLink: /apis/serving.knative.dev/v1alpha1/namespaces/default/routes/helloworld-python\n",
      "    uid: 4fbe2d46-550a-11e9-a3c9-025000000001\n",
      "  spec:\n",
      "    traffic:\n",
      "    - name: current\n",
      "      percent: 50\n",
      "      revisionName: helloworld-python-kqd68\n",
      "    - name: candidate\n",
      "      percent: 50\n",
      "      revisionName: helloworld-python-btj9b\n",
      "    - configurationName: helloworld-python\n",
      "      name: latest\n",
      "      percent: 0\n",
      "  status:\n",
      "    address:\n",
      "      hostname: helloworld-python.default.svc.cluster.local\n",
      "    conditions:\n",
      "    - lastTransitionTime: 2019-04-02T05:44:08Z\n",
      "      status: \"True\"\n",
      "      type: AllTrafficAssigned\n",
      "    - lastTransitionTime: 2019-04-02T05:44:08Z\n",
      "      status: \"True\"\n",
      "      type: IngressReady\n",
      "    - lastTransitionTime: 2019-04-02T05:44:08Z\n",
      "      status: \"True\"\n",
      "      type: Ready\n",
      "    domain: helloworld-python.default.example.com\n",
      "    domainInternal: helloworld-python.default.svc.cluster.local\n",
      "    observedGeneration: 2\n",
      "    traffic:\n",
      "    - name: current\n",
      "      percent: 50\n",
      "      revisionName: helloworld-python-kqd68\n",
      "    - name: candidate\n",
      "      percent: 50\n",
      "      revisionName: helloworld-python-btj9b\n",
      "    - name: latest\n",
      "      percent: 0\n",
      "      revisionName: helloworld-python-btj9b\n",
      "kind: List\n",
      "metadata:\n",
      "  resourceVersion: \"\"\n",
      "  selfLink: \"\"\n"
     ]
    }
   ],
   "source": [
    "! kubectl get route --output yaml"
   ]
  },
  {
   "cell_type": "code",
   "execution_count": 15,
   "metadata": {},
   "outputs": [
    {
     "name": "stdout",
     "output_type": "stream",
     "text": [
      "Hello Python Sample v2!\r\n"
     ]
    }
   ],
   "source": [
    "! curl -H \"Host: helloworld-python.default.example.com\" http://localhost:31380"
   ]
  },
  {
   "cell_type": "code",
   "execution_count": 40,
   "metadata": {
    "collapsed": true
   },
   "outputs": [
    {
     "name": "stdout",
     "output_type": "stream",
     "text": [
      "panic: runtime error: invalid memory address or nil pointer dereference\r\n",
      "[signal SIGSEGV: segmentation violation code=0x1 addr=0x0 pc=0x1556e89]\r\n",
      "\r\n",
      "goroutine 1 [running]:\r\n",
      "main.main()\r\n",
      "\t/Users/i033085/golang/src/github.com/sbcd90/hey/hey.go:244 +0x4e9\r\n"
     ]
    }
   ],
   "source": [
    "! hey -z 30s -c 50 \\\n",
    "  -host \"helloworld-python.default.example.com\" \\\n",
    "  \"http://localhost:31380?sleep=100\" \\"
   ]
  },
  {
   "cell_type": "code",
   "execution_count": 24,
   "metadata": {},
   "outputs": [
    {
     "name": "stdout",
     "output_type": "stream",
     "text": [
      "service.serving.knative.dev \"helloworld-python\" deleted\r\n"
     ]
    }
   ],
   "source": [
    "! kubectl delete -f service.yaml"
   ]
  },
  {
   "cell_type": "markdown",
   "metadata": {},
   "source": [
    "### Auto Scaling"
   ]
  },
  {
   "cell_type": "code",
   "execution_count": null,
   "metadata": {},
   "outputs": [],
   "source": [
    "%cd /Users/i033085/externalRepos/docs/serving/samples/autoscale-go"
   ]
  },
  {
   "cell_type": "code",
   "execution_count": null,
   "metadata": {},
   "outputs": [],
   "source": [
    "! kubectl apply -f service.yaml"
   ]
  },
  {
   "cell_type": "code",
   "execution_count": null,
   "metadata": {},
   "outputs": [],
   "source": [
    "! curl --header \"Host: autoscale-go.default.example.com\" \"http://localhost:31380?prime=10000&bloat=5\""
   ]
  },
  {
   "cell_type": "code",
   "execution_count": null,
   "metadata": {},
   "outputs": [],
   "source": [
    "! hey -z 30s -c 50 \\\n",
    "  -host \"autoscale-go.default.example.com\" \\\n",
    "  \"http://localhost:31380?prime=10000&bloat=5\" \\\n",
    "  && kubectl get pods"
   ]
  },
  {
   "cell_type": "code",
   "execution_count": null,
   "metadata": {},
   "outputs": [],
   "source": [
    "! kubectl delete -f service.yaml"
   ]
  },
  {
   "cell_type": "code",
   "execution_count": null,
   "metadata": {},
   "outputs": [],
   "source": [
    "! kubectl get pods"
   ]
  },
  {
   "cell_type": "markdown",
   "metadata": {},
   "source": [
    "### Deploy gRPC model Server on KNative"
   ]
  },
  {
   "cell_type": "code",
   "execution_count": 16,
   "metadata": {},
   "outputs": [
    {
     "name": "stdout",
     "output_type": "stream",
     "text": [
      "/Users/i033085/gitrepos/mlf-python-grpc-model-server/knative\n"
     ]
    }
   ],
   "source": [
    "%cd /Users/i033085/gitrepos/mlf-python-grpc-model-server/knative"
   ]
  },
  {
   "cell_type": "code",
   "execution_count": 17,
   "metadata": {},
   "outputs": [
    {
     "name": "stdout",
     "output_type": "stream",
     "text": [
      "service.serving.knative.dev \"mlf-python-grpc-model-server\" created\r\n"
     ]
    }
   ],
   "source": [
    "!kubectl apply -f sample.yaml"
   ]
  },
  {
   "cell_type": "code",
   "execution_count": 18,
   "metadata": {},
   "outputs": [
    {
     "name": "stdout",
     "output_type": "stream",
     "text": [
      "/Users/i033085/gitrepos/mlf-python-grpc-model-server/test\n"
     ]
    }
   ],
   "source": [
    "%cd /Users/i033085/gitrepos/mlf-python-grpc-model-server/test"
   ]
  },
  {
   "cell_type": "code",
   "execution_count": 19,
   "metadata": {
    "collapsed": true
   },
   "outputs": [
    {
     "name": "stdout",
     "output_type": "stream",
     "text": [
      "Traceback (most recent call last):\r\n",
      "  File \"python_grpc_client.py\", line 2, in <module>\r\n",
      "    from tensorflow_serving.apis import predict_pb2 as tensorflow__serving_dot_apis_dot_predict__pb2\r\n",
      "ModuleNotFoundError: No module named 'tensorflow_serving'\r\n"
     ]
    }
   ],
   "source": [
    "!python python_grpc_client.py "
   ]
  },
  {
   "cell_type": "code",
   "execution_count": 20,
   "metadata": {},
   "outputs": [
    {
     "name": "stdout",
     "output_type": "stream",
     "text": [
      "\r\n",
      "Summary:\r\n",
      "  Total:\t45.8586 secs\r\n",
      "  Slowest:\t19.0728 secs\r\n",
      "  Fastest:\t0.0314 secs\r\n",
      "  Average:\t4.3434 secs\r\n",
      "  Requests/sec:\t21.8062\r\n",
      "  \r\n",
      "  Total data:\t21000 bytes\r\n",
      "  Size/request:\t21 bytes\r\n",
      "\r\n",
      "Response time histogram:\r\n",
      "  0.031 [1]\t|\r\n",
      "  1.936 [550]\t|■■■■■■■■■■■■■■■■■■■■■■■■■■■■■■■■■■■■■■■■\r\n",
      "  3.840 [76]\t|■■■■■■\r\n",
      "  5.744 [62]\t|■■■■■\r\n",
      "  7.648 [100]\t|■■■■■■■\r\n",
      "  9.552 [19]\t|■\r\n",
      "  11.456 [24]\t|■■\r\n",
      "  13.360 [20]\t|■\r\n",
      "  15.265 [66]\t|■■■■■\r\n",
      "  17.169 [62]\t|■■■■■\r\n",
      "  19.073 [20]\t|■\r\n",
      "\r\n",
      "\r\n",
      "Latency distribution:\r\n",
      "  10% in 0.0997 secs\r\n",
      "  25% in 0.2301 secs\r\n",
      "  50% in 1.0633 secs\r\n",
      "  75% in 6.3283 secs\r\n",
      "  90% in 14.7917 secs\r\n",
      "  95% in 16.1972 secs\r\n",
      "  99% in 18.3233 secs\r\n",
      "\r\n",
      "Details (average, fastest, slowest):\r\n",
      "  DNS+dialup:\t0.0562 secs, 0.0314 secs, 19.0728 secs\r\n",
      "  DNS-lookup:\t0.0000 secs, 0.0000 secs, 0.0000 secs\r\n",
      "  req write:\t0.0000 secs, 0.0000 secs, 0.0000 secs\r\n",
      "  resp wait:\t0.0000 secs, 0.0000 secs, 0.0000 secs\r\n",
      "  resp read:\t0.0000 secs, 0.0000 secs, 0.0000 secs\r\n",
      "\r\n",
      "Status code distribution:\r\n",
      "  [200]\t1000 responses\r\n",
      "\r\n",
      "\r\n",
      "\r\n"
     ]
    }
   ],
   "source": [
    "!hey -n 1000 -c 100 -M tensorflow-feature-sum-model -v 1 -k X -d 1,2,3,4 -server-host-override mlf-python-grpc-model-server.default.example.com -insecure -g localhost:31380"
   ]
  },
  {
   "cell_type": "code",
   "execution_count": 21,
   "metadata": {},
   "outputs": [
    {
     "name": "stdout",
     "output_type": "stream",
     "text": [
      "/Users/i033085/gitrepos/mlf-python-grpc-model-server/knative\n"
     ]
    }
   ],
   "source": [
    "%cd /Users/i033085/gitrepos/mlf-python-grpc-model-server/knative"
   ]
  },
  {
   "cell_type": "code",
   "execution_count": 22,
   "metadata": {},
   "outputs": [
    {
     "name": "stdout",
     "output_type": "stream",
     "text": [
      "service.serving.knative.dev \"mlf-python-grpc-model-server\" deleted\r\n"
     ]
    }
   ],
   "source": [
    "! kubectl delete -f sample.yaml"
   ]
  }
 ],
 "metadata": {
  "kernelspec": {
   "display_name": "Python 3",
   "language": "python",
   "name": "python3"
  },
  "language_info": {
   "codemirror_mode": {
    "name": "ipython",
    "version": 3
   },
   "file_extension": ".py",
   "mimetype": "text/x-python",
   "name": "python",
   "nbconvert_exporter": "python",
   "pygments_lexer": "ipython3",
   "version": "3.7.1"
  }
 },
 "nbformat": 4,
 "nbformat_minor": 2
}
