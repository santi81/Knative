{
 "cells": [
  {
   "cell_type": "markdown",
   "metadata": {},
   "source": [
    "### Hello World with KNative"
   ]
  },
  {
   "cell_type": "code",
   "execution_count": 1,
   "metadata": {},
   "outputs": [
    {
     "name": "stdout",
     "output_type": "stream",
     "text": [
      "/Users/i033085/externalRepos/docs/serving/samples/helloworld-python\n"
     ]
    }
   ],
   "source": [
    "%cd /Users/i033085/externalRepos/docs/serving/samples/helloworld-python\n"
   ]
  },
  {
   "cell_type": "code",
   "execution_count": 2,
   "metadata": {},
   "outputs": [
    {
     "name": "stdout",
     "output_type": "stream",
     "text": [
      "service.serving.knative.dev \"helloworld-python\" created\r\n"
     ]
    }
   ],
   "source": [
    "! kubectl apply -f service.yaml"
   ]
  },
  {
   "cell_type": "code",
   "execution_count": 3,
   "metadata": {},
   "outputs": [
    {
     "name": "stdout",
     "output_type": "stream",
     "text": [
      "NAME                   TYPE       CLUSTER-IP      EXTERNAL-IP   PORT(S)                                                                                                                   AGE\r\n",
      "istio-ingressgateway   NodePort   10.108.14.171   <none>        80:31380/TCP,443:31390/TCP,31400:31400/TCP,15011:30638/TCP,8060:31749/TCP,853:31693/TCP,15030:31520/TCP,15031:31924/TCP   34d\r\n"
     ]
    }
   ],
   "source": [
    "! kubectl get svc istio-ingressgateway --namespace istio-system"
   ]
  },
  {
   "cell_type": "code",
   "execution_count": 4,
   "metadata": {},
   "outputs": [
    {
     "name": "stdout",
     "output_type": "stream",
     "text": [
      "NAME                DOMAIN\r\n",
      "helloworld-python   helloworld-python.default.example.com\r\n"
     ]
    }
   ],
   "source": [
    "! kubectl get ksvc helloworld-python  --output=custom-columns=NAME:.metadata.name,DOMAIN:.status.domain"
   ]
  },
  {
   "cell_type": "code",
   "execution_count": 3,
   "metadata": {},
   "outputs": [
    {
     "name": "stdout",
     "output_type": "stream",
     "text": [
      "Hello Python Sample v2!\r\n"
     ]
    }
   ],
   "source": [
    "! curl -H \"Host: helloworld-python.default.example.com\" http://localhost:31380"
   ]
  },
  {
   "cell_type": "code",
   "execution_count": 6,
   "metadata": {
    "collapsed": true
   },
   "outputs": [
    {
     "name": "stdout",
     "output_type": "stream",
     "text": [
      "{\r\n",
      "    \"apiVersion\": \"v1\",\r\n",
      "    \"data\": {\r\n",
      "        \"_example\": \"################################\\n#                              #\\n#    EXAMPLE CONFIGURATION     #\\n#                              #\\n################################\\n\\n# This block is not actually functional configuration,\\n# but serves to illustrate the available configuration\\n# options and document them in a way that is accessible\\n# to users that `kubectl edit` this config map.\\n#\\n# These sample configuration options may be copied out of\\n# this block and unindented to actually change the configuration.\\n\\n# The Revision ContainerConcurrency field specifies the maximum number\\n# of requests the Container can handle at once. Container concurrency\\n# target percentage is how much of that maximum to use in a stable\\n# state. E.g. if a Revision specifies ContainerConcurrency of 10, then\\n# the Autoscaler will try to maintain 7 concurrent connections per pod\\n# on average. A value of 0.7 is chosen because the Autoscaler panics\\n# when concurrency exceeds 2x the desired set point. So we will panic\\n# before we reach the limit.\\ncontainer-concurrency-target-percentage: \\\"1.0\\\"\\n\\n# The container concurrency target default is what the Autoscaler will\\n# try to maintain when the Revision specifies unlimited concurrency. A\\n# value of 100 is chosen because it's enough to allow vertical pod\\n# autoscaling to tune resource requests. E.g. maintaining 1 concurrent\\n# \\\"hello world\\\" request doesn't consume enough resources to allow VPA\\n# to achieve efficient resource usage (VPA CPU minimum is 300m).\\ncontainer-concurrency-target-default: \\\"100\\\"\\n\\n# When operating in a stable mode, the autoscaler operates on the\\n# average concurrency over the stable window.\\nstable-window: \\\"60s\\\"\\n\\n# When observed average concurrency during the panic window reaches 2x\\n# the target concurrency, the autoscaler enters panic mode. When\\n# operating in panic mode, the autoscaler operates on the average\\n# concurrency over the panic window.\\npanic-window: \\\"6s\\\"\\n\\n# Max scale up rate limits the rate at which the autoscaler will\\n# increase pod count. It is the maximum ratio of desired pods versus\\n# observed pods.\\nmax-scale-up-rate: \\\"10\\\"\\n\\n# Scale to zero feature flag\\nenable-scale-to-zero: \\\"true\\\"\\n\\n# Tick interval is the time between autoscaling calculations.\\ntick-interval: \\\"2s\\\"\\n\\n# Dynamic parameters (take effect when config map is updated):\\n\\n# Scale to zero grace period is the time an inactive revision is left\\n# running before it is scaled to zero (min: 30s).\\nscale-to-zero-grace-period: \\\"30s\\\"\\n\"\r\n",
      "    },\r\n",
      "    \"kind\": \"ConfigMap\",\r\n",
      "    \"metadata\": {\r\n",
      "        \"annotations\": {\r\n",
      "            \"kubectl.kubernetes.io/last-applied-configuration\": \"{\\\"apiVersion\\\":\\\"v1\\\",\\\"data\\\":{\\\"_example\\\":\\\"################################\\\\n#                              #\\\\n#    EXAMPLE CONFIGURATION     #\\\\n#                              #\\\\n################################\\\\n\\\\n# This block is not actually functional configuration,\\\\n# but serves to illustrate the available configuration\\\\n# options and document them in a way that is accessible\\\\n# to users that `kubectl edit` this config map.\\\\n#\\\\n# These sample configuration options may be copied out of\\\\n# this block and unindented to actually change the configuration.\\\\n\\\\n# The Revision ContainerConcurrency field specifies the maximum number\\\\n# of requests the Container can handle at once. Container concurrency\\\\n# target percentage is how much of that maximum to use in a stable\\\\n# state. E.g. if a Revision specifies ContainerConcurrency of 10, then\\\\n# the Autoscaler will try to maintain 7 concurrent connections per pod\\\\n# on average. A value of 0.7 is chosen because the Autoscaler panics\\\\n# when concurrency exceeds 2x the desired set point. So we will panic\\\\n# before we reach the limit.\\\\ncontainer-concurrency-target-percentage: \\\\\\\"1.0\\\\\\\"\\\\n\\\\n# The container concurrency target default is what the Autoscaler will\\\\n# try to maintain when the Revision specifies unlimited concurrency. A\\\\n# value of 100 is chosen because it's enough to allow vertical pod\\\\n# autoscaling to tune resource requests. E.g. maintaining 1 concurrent\\\\n# \\\\\\\"hello world\\\\\\\" request doesn't consume enough resources to allow VPA\\\\n# to achieve efficient resource usage (VPA CPU minimum is 300m).\\\\ncontainer-concurrency-target-default: \\\\\\\"100\\\\\\\"\\\\n\\\\n# When operating in a stable mode, the autoscaler operates on the\\\\n# average concurrency over the stable window.\\\\nstable-window: \\\\\\\"60s\\\\\\\"\\\\n\\\\n# When observed average concurrency during the panic window reaches 2x\\\\n# the target concurrency, the autoscaler enters panic mode. When\\\\n# operating in panic mode, the autoscaler operates on the average\\\\n# concurrency over the panic window.\\\\npanic-window: \\\\\\\"6s\\\\\\\"\\\\n\\\\n# Max scale up rate limits the rate at which the autoscaler will\\\\n# increase pod count. It is the maximum ratio of desired pods versus\\\\n# observed pods.\\\\nmax-scale-up-rate: \\\\\\\"10\\\\\\\"\\\\n\\\\n# Scale to zero feature flag\\\\nenable-scale-to-zero: \\\\\\\"true\\\\\\\"\\\\n\\\\n# Tick interval is the time between autoscaling calculations.\\\\ntick-interval: \\\\\\\"2s\\\\\\\"\\\\n\\\\n# Dynamic parameters (take effect when config map is updated):\\\\n\\\\n# Scale to zero grace period is the time an inactive revision is left\\\\n# running before it is scaled to zero (min: 30s).\\\\nscale-to-zero-grace-period: \\\\\\\"30s\\\\\\\"\\\\n\\\"},\\\"kind\\\":\\\"ConfigMap\\\",\\\"metadata\\\":{\\\"annotations\\\":{},\\\"labels\\\":{\\\"serving.knative.dev/release\\\":\\\"devel\\\"},\\\"name\\\":\\\"config-autoscaler\\\",\\\"namespace\\\":\\\"knative-serving\\\"}}\\n\"\r\n",
      "        },\r\n",
      "        \"creationTimestamp\": \"2019-02-20T05:03:36Z\",\r\n",
      "        \"labels\": {\r\n",
      "            \"serving.knative.dev/release\": \"devel\"\r\n",
      "        },\r\n",
      "        \"name\": \"config-autoscaler\",\r\n",
      "        \"namespace\": \"knative-serving\",\r\n",
      "        \"resourceVersion\": \"123586\",\r\n",
      "        \"selfLink\": \"/api/v1/namespaces/knative-serving/configmaps/config-autoscaler\",\r\n",
      "        \"uid\": \"e1440343-34cc-11e9-94ec-025000000001\"\r\n",
      "    }\r\n",
      "}\r\n"
     ]
    }
   ],
   "source": [
    "! kubectl -n knative-serving get cm config-autoscaler --output json"
   ]
  },
  {
   "cell_type": "markdown",
   "metadata": {},
   "source": [
    "### Role out a new Revision"
   ]
  },
  {
   "cell_type": "code",
   "execution_count": 4,
   "metadata": {},
   "outputs": [
    {
     "name": "stdout",
     "output_type": "stream",
     "text": [
      "service.serving.knative.dev \"helloworld-python\" configured\r\n"
     ]
    }
   ],
   "source": [
    "! kubectl apply -f service-rev1.yaml"
   ]
  },
  {
   "cell_type": "code",
   "execution_count": 5,
   "metadata": {},
   "outputs": [
    {
     "name": "stdout",
     "output_type": "stream",
     "text": [
      "Hello Python Sample v3!\r\n"
     ]
    }
   ],
   "source": [
    "! curl -H \"Host: helloworld-python.default.example.com\" http://localhost:31380"
   ]
  },
  {
   "cell_type": "code",
   "execution_count": 7,
   "metadata": {
    "scrolled": true
   },
   "outputs": [
    {
     "name": "stdout",
     "output_type": "stream",
     "text": [
      "NAME                                 AGE\r\n",
      "helloworld-python-8hb66              10m\r\n",
      "helloworld-python-vxdl8              1m\r\n",
      "mlf-python-grpc-model-server-72rl5   12h\r\n"
     ]
    }
   ],
   "source": [
    "! kubectl get revisions"
   ]
  },
  {
   "cell_type": "code",
   "execution_count": 8,
   "metadata": {
    "collapsed": true
   },
   "outputs": [
    {
     "name": "stdout",
     "output_type": "stream",
     "text": [
      "apiVersion: v1\r\n",
      "items:\r\n",
      "- apiVersion: serving.knative.dev/v1alpha1\r\n",
      "  kind: Route\r\n",
      "  metadata:\r\n",
      "    creationTimestamp: 2019-03-26T18:15:21Z\r\n",
      "    finalizers:\r\n",
      "    - routes.serving.knative.dev\r\n",
      "    generation: 1\r\n",
      "    labels:\r\n",
      "      serving.knative.dev/service: helloworld-python\r\n",
      "    name: helloworld-python\r\n",
      "    namespace: default\r\n",
      "    ownerReferences:\r\n",
      "    - apiVersion: serving.knative.dev/v1alpha1\r\n",
      "      blockOwnerDeletion: true\r\n",
      "      controller: true\r\n",
      "      kind: Service\r\n",
      "      name: helloworld-python\r\n",
      "      uid: 1e098bc7-4ff3-11e9-a36e-025000000001\r\n",
      "    resourceVersion: \"867358\"\r\n",
      "    selfLink: /apis/serving.knative.dev/v1alpha1/namespaces/default/routes/helloworld-python\r\n",
      "    uid: 1e0e0bd9-4ff3-11e9-a36e-025000000001\r\n",
      "  spec:\r\n",
      "    traffic:\r\n",
      "    - configurationName: helloworld-python\r\n",
      "      percent: 100\r\n",
      "  status:\r\n",
      "    address:\r\n",
      "      hostname: helloworld-python.default.svc.cluster.local\r\n",
      "    conditions:\r\n",
      "    - lastTransitionTime: 2019-03-26T18:15:27Z\r\n",
      "      status: \"True\"\r\n",
      "      type: AllTrafficAssigned\r\n",
      "    - lastTransitionTime: 2019-03-26T18:15:27Z\r\n",
      "      status: \"True\"\r\n",
      "      type: IngressReady\r\n",
      "    - lastTransitionTime: 2019-03-26T18:15:27Z\r\n",
      "      status: \"True\"\r\n",
      "      type: Ready\r\n",
      "    domain: helloworld-python.default.example.com\r\n",
      "    domainInternal: helloworld-python.default.svc.cluster.local\r\n",
      "    observedGeneration: 1\r\n",
      "    traffic:\r\n",
      "    - percent: 100\r\n",
      "      revisionName: helloworld-python-vxdl8\r\n",
      "- apiVersion: serving.knative.dev/v1alpha1\r\n",
      "  kind: Route\r\n",
      "  metadata:\r\n",
      "    creationTimestamp: 2019-03-26T06:20:38Z\r\n",
      "    finalizers:\r\n",
      "    - routes.serving.knative.dev\r\n",
      "    generation: 1\r\n",
      "    labels:\r\n",
      "      serving.knative.dev/service: mlf-python-grpc-model-server\r\n",
      "    name: mlf-python-grpc-model-server\r\n",
      "    namespace: default\r\n",
      "    ownerReferences:\r\n",
      "    - apiVersion: serving.knative.dev/v1alpha1\r\n",
      "      blockOwnerDeletion: true\r\n",
      "      controller: true\r\n",
      "      kind: Service\r\n",
      "      name: mlf-python-grpc-model-server\r\n",
      "      uid: 45edea54-4f8f-11e9-a36e-025000000001\r\n",
      "    resourceVersion: \"862082\"\r\n",
      "    selfLink: /apis/serving.knative.dev/v1alpha1/namespaces/default/routes/mlf-python-grpc-model-server\r\n",
      "    uid: 45f0d655-4f8f-11e9-a36e-025000000001\r\n",
      "  spec:\r\n",
      "    traffic:\r\n",
      "    - configurationName: mlf-python-grpc-model-server\r\n",
      "      percent: 100\r\n",
      "  status:\r\n",
      "    address:\r\n",
      "      hostname: mlf-python-grpc-model-server.default.svc.cluster.local\r\n",
      "    conditions:\r\n",
      "    - lastTransitionTime: 2019-03-26T06:20:45Z\r\n",
      "      status: \"True\"\r\n",
      "      type: AllTrafficAssigned\r\n",
      "    - lastTransitionTime: 2019-03-26T06:20:46Z\r\n",
      "      status: \"True\"\r\n",
      "      type: IngressReady\r\n",
      "    - lastTransitionTime: 2019-03-26T06:20:46Z\r\n",
      "      status: \"True\"\r\n",
      "      type: Ready\r\n",
      "    domain: mlf-python-grpc-model-server.default.example.com\r\n",
      "    domainInternal: mlf-python-grpc-model-server.default.svc.cluster.local\r\n",
      "    observedGeneration: 1\r\n",
      "    traffic:\r\n",
      "    - percent: 100\r\n",
      "      revisionName: mlf-python-grpc-model-server-72rl5\r\n",
      "kind: List\r\n",
      "metadata:\r\n",
      "  resourceVersion: \"\"\r\n",
      "  selfLink: \"\"\r\n"
     ]
    }
   ],
   "source": [
    "! kubectl get route --output yaml"
   ]
  },
  {
   "cell_type": "code",
   "execution_count": 9,
   "metadata": {},
   "outputs": [
    {
     "name": "stdout",
     "output_type": "stream",
     "text": [
      "service.serving.knative.dev \"helloworld-python\" configured\r\n"
     ]
    }
   ],
   "source": [
    "! kubectl apply -f service-rev2.yaml"
   ]
  },
  {
   "cell_type": "code",
   "execution_count": 10,
   "metadata": {
    "collapsed": true
   },
   "outputs": [
    {
     "name": "stdout",
     "output_type": "stream",
     "text": [
      "apiVersion: v1\r\n",
      "items:\r\n",
      "- apiVersion: serving.knative.dev/v1alpha1\r\n",
      "  kind: Route\r\n",
      "  metadata:\r\n",
      "    creationTimestamp: 2019-03-26T18:15:21Z\r\n",
      "    finalizers:\r\n",
      "    - routes.serving.knative.dev\r\n",
      "    generation: 2\r\n",
      "    labels:\r\n",
      "      serving.knative.dev/service: helloworld-python\r\n",
      "    name: helloworld-python\r\n",
      "    namespace: default\r\n",
      "    ownerReferences:\r\n",
      "    - apiVersion: serving.knative.dev/v1alpha1\r\n",
      "      blockOwnerDeletion: true\r\n",
      "      controller: true\r\n",
      "      kind: Service\r\n",
      "      name: helloworld-python\r\n",
      "      uid: 1e098bc7-4ff3-11e9-a36e-025000000001\r\n",
      "    resourceVersion: \"867514\"\r\n",
      "    selfLink: /apis/serving.knative.dev/v1alpha1/namespaces/default/routes/helloworld-python\r\n",
      "    uid: 1e0e0bd9-4ff3-11e9-a36e-025000000001\r\n",
      "  spec:\r\n",
      "    traffic:\r\n",
      "    - name: current\r\n",
      "      percent: 50\r\n",
      "      revisionName: helloworld-python-8hb66\r\n",
      "    - name: candidate\r\n",
      "      percent: 50\r\n",
      "      revisionName: helloworld-python-vxdl8\r\n",
      "    - configurationName: helloworld-python\r\n",
      "      name: latest\r\n",
      "      percent: 0\r\n",
      "  status:\r\n",
      "    address:\r\n",
      "      hostname: helloworld-python.default.svc.cluster.local\r\n",
      "    conditions:\r\n",
      "    - lastTransitionTime: 2019-03-26T18:15:27Z\r\n",
      "      status: \"True\"\r\n",
      "      type: AllTrafficAssigned\r\n",
      "    - lastTransitionTime: 2019-03-26T18:15:27Z\r\n",
      "      status: \"True\"\r\n",
      "      type: IngressReady\r\n",
      "    - lastTransitionTime: 2019-03-26T18:15:27Z\r\n",
      "      status: \"True\"\r\n",
      "      type: Ready\r\n",
      "    domain: helloworld-python.default.example.com\r\n",
      "    domainInternal: helloworld-python.default.svc.cluster.local\r\n",
      "    observedGeneration: 2\r\n",
      "    traffic:\r\n",
      "    - name: current\r\n",
      "      percent: 50\r\n",
      "      revisionName: helloworld-python-8hb66\r\n",
      "    - name: candidate\r\n",
      "      percent: 50\r\n",
      "      revisionName: helloworld-python-vxdl8\r\n",
      "    - name: latest\r\n",
      "      percent: 0\r\n",
      "      revisionName: helloworld-python-vxdl8\r\n",
      "- apiVersion: serving.knative.dev/v1alpha1\r\n",
      "  kind: Route\r\n",
      "  metadata:\r\n",
      "    creationTimestamp: 2019-03-26T06:20:38Z\r\n",
      "    finalizers:\r\n",
      "    - routes.serving.knative.dev\r\n",
      "    generation: 1\r\n",
      "    labels:\r\n",
      "      serving.knative.dev/service: mlf-python-grpc-model-server\r\n",
      "    name: mlf-python-grpc-model-server\r\n",
      "    namespace: default\r\n",
      "    ownerReferences:\r\n",
      "    - apiVersion: serving.knative.dev/v1alpha1\r\n",
      "      blockOwnerDeletion: true\r\n",
      "      controller: true\r\n",
      "      kind: Service\r\n",
      "      name: mlf-python-grpc-model-server\r\n",
      "      uid: 45edea54-4f8f-11e9-a36e-025000000001\r\n",
      "    resourceVersion: \"862082\"\r\n",
      "    selfLink: /apis/serving.knative.dev/v1alpha1/namespaces/default/routes/mlf-python-grpc-model-server\r\n",
      "    uid: 45f0d655-4f8f-11e9-a36e-025000000001\r\n",
      "  spec:\r\n",
      "    traffic:\r\n",
      "    - configurationName: mlf-python-grpc-model-server\r\n",
      "      percent: 100\r\n",
      "  status:\r\n",
      "    address:\r\n",
      "      hostname: mlf-python-grpc-model-server.default.svc.cluster.local\r\n",
      "    conditions:\r\n",
      "    - lastTransitionTime: 2019-03-26T06:20:45Z\r\n",
      "      status: \"True\"\r\n",
      "      type: AllTrafficAssigned\r\n",
      "    - lastTransitionTime: 2019-03-26T06:20:46Z\r\n",
      "      status: \"True\"\r\n",
      "      type: IngressReady\r\n",
      "    - lastTransitionTime: 2019-03-26T06:20:46Z\r\n",
      "      status: \"True\"\r\n",
      "      type: Ready\r\n",
      "    domain: mlf-python-grpc-model-server.default.example.com\r\n",
      "    domainInternal: mlf-python-grpc-model-server.default.svc.cluster.local\r\n",
      "    observedGeneration: 1\r\n",
      "    traffic:\r\n",
      "    - percent: 100\r\n",
      "      revisionName: mlf-python-grpc-model-server-72rl5\r\n",
      "kind: List\r\n",
      "metadata:\r\n",
      "  resourceVersion: \"\"\r\n",
      "  selfLink: \"\"\r\n"
     ]
    }
   ],
   "source": [
    "! kubectl get route --output yaml"
   ]
  },
  {
   "cell_type": "code",
   "execution_count": 15,
   "metadata": {},
   "outputs": [
    {
     "name": "stdout",
     "output_type": "stream",
     "text": [
      "Hello Python Sample v3!\r\n"
     ]
    }
   ],
   "source": [
    "! curl -H \"Host: helloworld-python.default.example.com\" http://localhost:31380"
   ]
  },
  {
   "cell_type": "code",
   "execution_count": 40,
   "metadata": {
    "collapsed": true
   },
   "outputs": [
    {
     "name": "stdout",
     "output_type": "stream",
     "text": [
      "panic: runtime error: invalid memory address or nil pointer dereference\r\n",
      "[signal SIGSEGV: segmentation violation code=0x1 addr=0x0 pc=0x1556e89]\r\n",
      "\r\n",
      "goroutine 1 [running]:\r\n",
      "main.main()\r\n",
      "\t/Users/i033085/golang/src/github.com/sbcd90/hey/hey.go:244 +0x4e9\r\n"
     ]
    }
   ],
   "source": [
    "! hey -z 30s -c 50 \\\n",
    "  -host \"helloworld-python.default.example.com\" \\\n",
    "  \"http://localhost:31380?sleep=100\" \\"
   ]
  },
  {
   "cell_type": "code",
   "execution_count": 34,
   "metadata": {},
   "outputs": [
    {
     "name": "stdout",
     "output_type": "stream",
     "text": [
      "service.serving.knative.dev \"helloworld-python\" deleted\r\n"
     ]
    }
   ],
   "source": [
    "! kubectl delete -f service.yaml"
   ]
  },
  {
   "cell_type": "markdown",
   "metadata": {},
   "source": [
    "### Auto Scaling"
   ]
  },
  {
   "cell_type": "code",
   "execution_count": null,
   "metadata": {},
   "outputs": [],
   "source": [
    "%cd /Users/i033085/externalRepos/docs/serving/samples/autoscale-go"
   ]
  },
  {
   "cell_type": "code",
   "execution_count": null,
   "metadata": {},
   "outputs": [],
   "source": [
    "! kubectl apply -f service.yaml"
   ]
  },
  {
   "cell_type": "code",
   "execution_count": null,
   "metadata": {},
   "outputs": [],
   "source": [
    "! curl --header \"Host: autoscale-go.default.example.com\" \"http://localhost:31380?prime=10000&bloat=5\""
   ]
  },
  {
   "cell_type": "code",
   "execution_count": null,
   "metadata": {},
   "outputs": [],
   "source": [
    "! hey -z 30s -c 50 \\\n",
    "  -host \"autoscale-go.default.example.com\" \\\n",
    "  \"http://localhost:31380?prime=10000&bloat=5\" \\\n",
    "  && kubectl get pods"
   ]
  },
  {
   "cell_type": "code",
   "execution_count": null,
   "metadata": {},
   "outputs": [],
   "source": [
    "! kubectl delete -f service.yaml"
   ]
  },
  {
   "cell_type": "code",
   "execution_count": null,
   "metadata": {},
   "outputs": [],
   "source": [
    "! kubectl get pods"
   ]
  },
  {
   "cell_type": "markdown",
   "metadata": {},
   "source": [
    "### Deploy gRPC model Server on KNative"
   ]
  },
  {
   "cell_type": "code",
   "execution_count": 17,
   "metadata": {},
   "outputs": [
    {
     "name": "stdout",
     "output_type": "stream",
     "text": [
      "/Users/i033085/gitrepos/mlf-python-grpc-model-server/knative\n"
     ]
    }
   ],
   "source": [
    "%cd /Users/i033085/gitrepos/mlf-python-grpc-model-server/knative"
   ]
  },
  {
   "cell_type": "code",
   "execution_count": 18,
   "metadata": {},
   "outputs": [
    {
     "name": "stdout",
     "output_type": "stream",
     "text": [
      "service.serving.knative.dev \"mlf-python-grpc-model-server\" configured\r\n"
     ]
    }
   ],
   "source": [
    "!kubectl apply -f sample.yaml"
   ]
  },
  {
   "cell_type": "code",
   "execution_count": 19,
   "metadata": {},
   "outputs": [
    {
     "name": "stdout",
     "output_type": "stream",
     "text": [
      "/Users/i033085/gitrepos/mlf-python-grpc-model-server/test\n"
     ]
    }
   ],
   "source": [
    "%cd /Users/i033085/gitrepos/mlf-python-grpc-model-server/test"
   ]
  },
  {
   "cell_type": "code",
   "execution_count": 20,
   "metadata": {
    "collapsed": true
   },
   "outputs": [
    {
     "name": "stdout",
     "output_type": "stream",
     "text": [
      "\n",
      "WARNING: The TensorFlow contrib module will not be included in TensorFlow 2.0.\n",
      "For more information, please see:\n",
      "  * https://github.com/tensorflow/community/blob/master/rfcs/20180907-contrib-sunset.md\n",
      "  * https://github.com/tensorflow/addons\n",
      "If you depend on functionality not listed there, please file an issue.\n",
      "\n",
      "outputs {\n",
      "  key: \"col\"\n",
      "  value {\n",
      "    dtype: DT_STRING\n",
      "    tensor_shape {\n",
      "      dim {\n",
      "        size: 1\n",
      "      }\n",
      "    }\n",
      "    string_val: \"60.400001525878906\"\n",
      "  }\n",
      "}\n",
      "\n"
     ]
    }
   ],
   "source": [
    "!python python_grpc_client.py "
   ]
  },
  {
   "cell_type": "code",
   "execution_count": 21,
   "metadata": {},
   "outputs": [
    {
     "name": "stdout",
     "output_type": "stream",
     "text": [
      "\r\n",
      "Summary:\r\n",
      "  Total:\t101.8819 secs\r\n",
      "  Slowest:\t9.4073 secs\r\n",
      "  Fastest:\t0.0122 secs\r\n",
      "  Average:\t0.9987 secs\r\n",
      "  Requests/sec:\t98.1529\r\n",
      "  \r\n",
      "  Total data:\t210000 bytes\r\n",
      "  Size/request:\t21 bytes\r\n",
      "\r\n",
      "Response time histogram:\r\n",
      "  0.012 [1]\t|\r\n",
      "  0.952 [7074]\t|■■■■■■■■■■■■■■■■■■■■■■■■■■■■■■■■■■■■■■■■\r\n",
      "  1.891 [2289]\t|■■■■■■■■■■■■■\r\n",
      "  2.831 [186]\t|■\r\n",
      "  3.770 [105]\t|■\r\n",
      "  4.710 [236]\t|■\r\n",
      "  5.649 [10]\t|\r\n",
      "  6.589 [15]\t|\r\n",
      "  7.528 [27]\t|\r\n",
      "  8.468 [31]\t|\r\n",
      "  9.407 [26]\t|\r\n",
      "\r\n",
      "\r\n",
      "Latency distribution:\r\n",
      "  10% in 0.4638 secs\r\n",
      "  25% in 0.6133 secs\r\n",
      "  50% in 0.7821 secs\r\n",
      "  75% in 1.0038 secs\r\n",
      "  90% in 1.3450 secs\r\n",
      "  95% in 2.6398 secs\r\n",
      "  99% in 5.4958 secs\r\n",
      "\r\n",
      "Details (average, fastest, slowest):\r\n",
      "  DNS+dialup:\t0.0127 secs, 0.0122 secs, 9.4073 secs\r\n",
      "  DNS-lookup:\t0.0000 secs, 0.0000 secs, 0.0000 secs\r\n",
      "  req write:\t0.0000 secs, 0.0000 secs, 0.0000 secs\r\n",
      "  resp wait:\t0.0000 secs, 0.0000 secs, 0.0000 secs\r\n",
      "  resp read:\t0.0000 secs, 0.0000 secs, 0.0008 secs\r\n",
      "\r\n",
      "Status code distribution:\r\n",
      "  [200]\t10000 responses\r\n",
      "\r\n",
      "\r\n",
      "\r\n"
     ]
    }
   ],
   "source": [
    "!hey -n 10000 -c 100 -M tensorflow-feature-sum-model -v 1 -k X -d 1,2,3,4 -server-host-override mlf-python-grpc-model-server.default.example.com -insecure -g localhost:31380"
   ]
  },
  {
   "cell_type": "code",
   "execution_count": null,
   "metadata": {},
   "outputs": [],
   "source": [
    "%cd /Users/i033085/gitrepos/mlf-python-grpc-model-server/knative"
   ]
  },
  {
   "cell_type": "code",
   "execution_count": null,
   "metadata": {},
   "outputs": [],
   "source": [
    "! kubectl delete -f sample.yaml"
   ]
  }
 ],
 "metadata": {
  "kernelspec": {
   "display_name": "Python 3",
   "language": "python",
   "name": "python3"
  },
  "language_info": {
   "codemirror_mode": {
    "name": "ipython",
    "version": 3
   },
   "file_extension": ".py",
   "mimetype": "text/x-python",
   "name": "python",
   "nbconvert_exporter": "python",
   "pygments_lexer": "ipython3",
   "version": "3.7.1"
  }
 },
 "nbformat": 4,
 "nbformat_minor": 2
}
